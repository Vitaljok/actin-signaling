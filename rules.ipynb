{
 "cells": [
  {
   "cell_type": "code",
   "execution_count": 3,
   "metadata": {
    "collapsed": false
   },
   "outputs": [],
   "source": [
    "import itertools\n",
    "\n",
    "def votingRule(act, inh):\n",
    "\n",
    "    actLen = len(act)\n",
    "    inhLen = len(inh)\n",
    "        \n",
    "    rules = []\n",
    "    \n",
    "    for case in itertools.product([0, 1], repeat=actLen + inhLen):\n",
    "        actLevel = sum(case[0:actLen]) \n",
    "        inhLevel = sum(case[actLen:])\n",
    "        if actLevel > 0 and actLevel >= inhLevel:\n",
    "            rules.append(case)\n",
    "    \n",
    "    res = \"\"\n",
    "    \n",
    "    for rule in rules:                \n",
    "        line = \"\"\n",
    "            \n",
    "        for idx, val in enumerate(act + inh):         \n",
    "            if line != \"\":\n",
    "                line += \" and \"\n",
    "            \n",
    "            if rule[idx] == 0:\n",
    "                line += \"not \" + val\n",
    "            else:\n",
    "                line += \"\" + val\n",
    "        \n",
    "        if res != \"\":\n",
    "            res += \" or \"\n",
    "        \n",
    "        res += line\n",
    "            \n",
    "    return res\n",
    "    \n",
    "# getRule([\"WASP\", \"WAVE\", \"Cortactin\"], [\"Profilin\", \"Thymosin\", \"Coronin\"])"
   ]
  },
  {
   "cell_type": "code",
   "execution_count": 4,
   "metadata": {
    "collapsed": false,
    "scrolled": true
   },
   "outputs": [],
   "source": [
    "def getRules():\n",
    "    rules = \"\"\n",
    "    rules += \"1: WASP* = not Thymosin and (Rac1 or Cdc42 or PIP2 or Cortactin or IRSp53) \\n\"\n",
    "    rules += \"1: WAVE* = Rac1 \\n\" # or IRSp53\n",
    "    rules += \"1: Arp2_3* = PAK and (\" + votingRule([\"WASP\", \"WAVE\", \"Cortactin\"], [\"Profilin\", \"Thymosin\", \"Coronin\"]) + \")\\n\"\n",
    "    rules += \"1: Rac1* = not ROCK and (Arp2_3 or Dia1) \\n\"\n",
    "    rules += \"1: RhoA* = not Rac1 and not PAK \\n\"\n",
    "    rules += \"1: Thymosin* = not WASP and not Cofilin \\n\" \n",
    "    rules += \"1: Cortactin* = (Rac1 and PAK) or ((Rac1 or PAK) and not (Coronin and PKD)) \\n\" # voting\n",
    "    rules += \"1: IRSp53* = Cdc42 or Rac1 \\n\"\n",
    "    rules += \"1: PAK* = Rac1 or Cdc42 or PKD \\n\"\n",
    "    rules += \"1: Dia1* = RhoA and not CP \\n\"\n",
    "    rules += \"1: Dia2* = Rac1 or RhoA \\n\"\n",
    "    rules += \"1: Ena_Vasp* = IRSp53 or WASP or PKD \\n\"\n",
    "    rules += \"1: Profilin* = \" + votingRule([\"WASP\", \"Dia1\", \"WAVE\"], [\"Thymosin\", \"PIP2\"]) + \" \\n\"\n",
    "    rules += \"1: CP* = (Arp2_3 and not Ena_Vasp) or not PIP2 \\n\"\n",
    "    rules += \"1: Coronin* = SSH \\n\"\n",
    "    rules += \"1: ROCK* = RhoA and not (SSH and Coronin) \\n\"\n",
    "    rules += \"1: PKD* = ROCK \\n\"\n",
    "    rules += \"1: LIMK* = (ROCK or PAK) and not SSH \\n\"\n",
    "    rules += \"1: Cofilin* = \" + votingRule([\"SSH\", \"Arp2_3\"], [\"PIP2\", \"Thymosin\", \"LIMK\", \"Cortactin\"]) + \"\\n\"\n",
    "    rules += \"1: SSH* = (Coronin or Rac1) and not PKD \\n\"\n",
    "    rules += \"1: Actin_BR* = (Arp2_3) \\n\" # or Cofilin) and not Thymosin \n",
    "    rules += \"1: Actin_ST* = Profilin and (\" + votingRule([\"Dia1\", \"Dia2\", \"Ena_Vasp\"], [\"CP\", \"Cofilin\"]) + \")\\n\"\n",
    "\n",
    "    return rules"
   ]
  },
  {
   "cell_type": "code",
   "execution_count": 10,
   "metadata": {
    "collapsed": false
   },
   "outputs": [
    {
     "data": {
      "text/plain": [
       "'1: WASP* = not Thymosin and (Rac1 or Cdc42 or PIP2 or Cortactin or IRSp53) \\n1: WAVE* = Rac1 \\n1: Arp2_3* = PAK and (not WASP and not WAVE and Cortactin and not Profilin and not Thymosin and not Coronin or not WASP and not WAVE and Cortactin and not Profilin and not Thymosin and Coronin or not WASP and not WAVE and Cortactin and not Profilin and Thymosin and not Coronin or not WASP and not WAVE and Cortactin and Profilin and not Thymosin and not Coronin or not WASP and WAVE and not Cortactin and not Profilin and not Thymosin and not Coronin or not WASP and WAVE and not Cortactin and not Profilin and not Thymosin and Coronin or not WASP and WAVE and not Cortactin and not Profilin and Thymosin and not Coronin or not WASP and WAVE and not Cortactin and Profilin and not Thymosin and not Coronin or not WASP and WAVE and Cortactin and not Profilin and not Thymosin and not Coronin or not WASP and WAVE and Cortactin and not Profilin and not Thymosin and Coronin or not WASP and WAVE and Cortactin and not Profilin and Thymosin and not Coronin or not WASP and WAVE and Cortactin and not Profilin and Thymosin and Coronin or not WASP and WAVE and Cortactin and Profilin and not Thymosin and not Coronin or not WASP and WAVE and Cortactin and Profilin and not Thymosin and Coronin or not WASP and WAVE and Cortactin and Profilin and Thymosin and not Coronin or WASP and not WAVE and not Cortactin and not Profilin and not Thymosin and not Coronin or WASP and not WAVE and not Cortactin and not Profilin and not Thymosin and Coronin or WASP and not WAVE and not Cortactin and not Profilin and Thymosin and not Coronin or WASP and not WAVE and not Cortactin and Profilin and not Thymosin and not Coronin or WASP and not WAVE and Cortactin and not Profilin and not Thymosin and not Coronin or WASP and not WAVE and Cortactin and not Profilin and not Thymosin and Coronin or WASP and not WAVE and Cortactin and not Profilin and Thymosin and not Coronin or WASP and not WAVE and Cortactin and not Profilin and Thymosin and Coronin or WASP and not WAVE and Cortactin and Profilin and not Thymosin and not Coronin or WASP and not WAVE and Cortactin and Profilin and not Thymosin and Coronin or WASP and not WAVE and Cortactin and Profilin and Thymosin and not Coronin or WASP and WAVE and not Cortactin and not Profilin and not Thymosin and not Coronin or WASP and WAVE and not Cortactin and not Profilin and not Thymosin and Coronin or WASP and WAVE and not Cortactin and not Profilin and Thymosin and not Coronin or WASP and WAVE and not Cortactin and not Profilin and Thymosin and Coronin or WASP and WAVE and not Cortactin and Profilin and not Thymosin and not Coronin or WASP and WAVE and not Cortactin and Profilin and not Thymosin and Coronin or WASP and WAVE and not Cortactin and Profilin and Thymosin and not Coronin or WASP and WAVE and Cortactin and not Profilin and not Thymosin and not Coronin or WASP and WAVE and Cortactin and not Profilin and not Thymosin and Coronin or WASP and WAVE and Cortactin and not Profilin and Thymosin and not Coronin or WASP and WAVE and Cortactin and not Profilin and Thymosin and Coronin or WASP and WAVE and Cortactin and Profilin and not Thymosin and not Coronin or WASP and WAVE and Cortactin and Profilin and not Thymosin and Coronin or WASP and WAVE and Cortactin and Profilin and Thymosin and not Coronin or WASP and WAVE and Cortactin and Profilin and Thymosin and Coronin)\\n1: Rac1* = not ROCK and (Arp2_3 or Dia1) \\n1: RhoA* = not Rac1 and not PAK \\n1: Thymosin* = not WASP and not Cofilin \\n1: Cortactin* = (Rac1 and PAK) or ((Rac1 or PAK) and not (Coronin and PKD)) \\n1: IRSp53* = Cdc42 or Rac1 \\n1: PAK* = Rac1 or Cdc42 or PKD \\n1: Dia1* = RhoA and not CP \\n1: Dia2* = Rac1 or RhoA \\n1: Ena_Vasp* = IRSp53 or WASP or PKD \\n1: Profilin* = not WASP and not Dia1 and WAVE and not Thymosin and not PIP2 or not WASP and not Dia1 and WAVE and not Thymosin and PIP2 or not WASP and not Dia1 and WAVE and Thymosin and not PIP2 or not WASP and Dia1 and not WAVE and not Thymosin and not PIP2 or not WASP and Dia1 and not WAVE and not Thymosin and PIP2 or not WASP and Dia1 and not WAVE and Thymosin and not PIP2 or not WASP and Dia1 and WAVE and not Thymosin and not PIP2 or not WASP and Dia1 and WAVE and not Thymosin and PIP2 or not WASP and Dia1 and WAVE and Thymosin and not PIP2 or not WASP and Dia1 and WAVE and Thymosin and PIP2 or WASP and not Dia1 and not WAVE and not Thymosin and not PIP2 or WASP and not Dia1 and not WAVE and not Thymosin and PIP2 or WASP and not Dia1 and not WAVE and Thymosin and not PIP2 or WASP and not Dia1 and WAVE and not Thymosin and not PIP2 or WASP and not Dia1 and WAVE and not Thymosin and PIP2 or WASP and not Dia1 and WAVE and Thymosin and not PIP2 or WASP and not Dia1 and WAVE and Thymosin and PIP2 or WASP and Dia1 and not WAVE and not Thymosin and not PIP2 or WASP and Dia1 and not WAVE and not Thymosin and PIP2 or WASP and Dia1 and not WAVE and Thymosin and not PIP2 or WASP and Dia1 and not WAVE and Thymosin and PIP2 or WASP and Dia1 and WAVE and not Thymosin and not PIP2 or WASP and Dia1 and WAVE and not Thymosin and PIP2 or WASP and Dia1 and WAVE and Thymosin and not PIP2 or WASP and Dia1 and WAVE and Thymosin and PIP2 \\n1: CP* = (Arp2_3 and not Ena_Vasp) or not PIP2 \\n1: Coronin* = SSH \\n1: ROCK* = RhoA and not (SSH and Coronin) \\n1: PKD* = ROCK \\n1: LIMK* = (ROCK or PAK) and not SSH \\n1: Cofilin* = not SSH and Arp2_3 and not PIP2 and not Thymosin and not LIMK and not Cortactin or not SSH and Arp2_3 and not PIP2 and not Thymosin and not LIMK and Cortactin or not SSH and Arp2_3 and not PIP2 and not Thymosin and LIMK and not Cortactin or not SSH and Arp2_3 and not PIP2 and Thymosin and not LIMK and not Cortactin or not SSH and Arp2_3 and PIP2 and not Thymosin and not LIMK and not Cortactin or SSH and not Arp2_3 and not PIP2 and not Thymosin and not LIMK and not Cortactin or SSH and not Arp2_3 and not PIP2 and not Thymosin and not LIMK and Cortactin or SSH and not Arp2_3 and not PIP2 and not Thymosin and LIMK and not Cortactin or SSH and not Arp2_3 and not PIP2 and Thymosin and not LIMK and not Cortactin or SSH and not Arp2_3 and PIP2 and not Thymosin and not LIMK and not Cortactin or SSH and Arp2_3 and not PIP2 and not Thymosin and not LIMK and not Cortactin or SSH and Arp2_3 and not PIP2 and not Thymosin and not LIMK and Cortactin or SSH and Arp2_3 and not PIP2 and not Thymosin and LIMK and not Cortactin or SSH and Arp2_3 and not PIP2 and not Thymosin and LIMK and Cortactin or SSH and Arp2_3 and not PIP2 and Thymosin and not LIMK and not Cortactin or SSH and Arp2_3 and not PIP2 and Thymosin and not LIMK and Cortactin or SSH and Arp2_3 and not PIP2 and Thymosin and LIMK and not Cortactin or SSH and Arp2_3 and PIP2 and not Thymosin and not LIMK and not Cortactin or SSH and Arp2_3 and PIP2 and not Thymosin and not LIMK and Cortactin or SSH and Arp2_3 and PIP2 and not Thymosin and LIMK and not Cortactin or SSH and Arp2_3 and PIP2 and Thymosin and not LIMK and not Cortactin\\n1: SSH* = (Coronin or Rac1) and not PKD \\n1: Actin_BR* = (Arp2_3) \\n1: Actin_ST* = Profilin and (not Dia1 and not Dia2 and Ena_Vasp and not CP and not Cofilin or not Dia1 and not Dia2 and Ena_Vasp and not CP and Cofilin or not Dia1 and not Dia2 and Ena_Vasp and CP and not Cofilin or not Dia1 and Dia2 and not Ena_Vasp and not CP and not Cofilin or not Dia1 and Dia2 and not Ena_Vasp and not CP and Cofilin or not Dia1 and Dia2 and not Ena_Vasp and CP and not Cofilin or not Dia1 and Dia2 and Ena_Vasp and not CP and not Cofilin or not Dia1 and Dia2 and Ena_Vasp and not CP and Cofilin or not Dia1 and Dia2 and Ena_Vasp and CP and not Cofilin or not Dia1 and Dia2 and Ena_Vasp and CP and Cofilin or Dia1 and not Dia2 and not Ena_Vasp and not CP and not Cofilin or Dia1 and not Dia2 and not Ena_Vasp and not CP and Cofilin or Dia1 and not Dia2 and not Ena_Vasp and CP and not Cofilin or Dia1 and not Dia2 and Ena_Vasp and not CP and not Cofilin or Dia1 and not Dia2 and Ena_Vasp and not CP and Cofilin or Dia1 and not Dia2 and Ena_Vasp and CP and not Cofilin or Dia1 and not Dia2 and Ena_Vasp and CP and Cofilin or Dia1 and Dia2 and not Ena_Vasp and not CP and not Cofilin or Dia1 and Dia2 and not Ena_Vasp and not CP and Cofilin or Dia1 and Dia2 and not Ena_Vasp and CP and not Cofilin or Dia1 and Dia2 and not Ena_Vasp and CP and Cofilin or Dia1 and Dia2 and Ena_Vasp and not CP and not Cofilin or Dia1 and Dia2 and Ena_Vasp and not CP and Cofilin or Dia1 and Dia2 and Ena_Vasp and CP and not Cofilin or Dia1 and Dia2 and Ena_Vasp and CP and Cofilin)\\n'"
      ]
     },
     "execution_count": 10,
     "metadata": {},
     "output_type": "execute_result"
    }
   ],
   "source": [
    "getRules()"
   ]
  }
 ],
 "metadata": {
  "kernelspec": {
   "display_name": "Python 2",
   "language": "python",
   "name": "python2"
  },
  "language_info": {
   "codemirror_mode": {
    "name": "ipython",
    "version": 2
   },
   "file_extension": ".py",
   "mimetype": "text/x-python",
   "name": "python",
   "nbconvert_exporter": "python",
   "pygments_lexer": "ipython2",
   "version": "2.7.12"
  }
 },
 "nbformat": 4,
 "nbformat_minor": 1
}
