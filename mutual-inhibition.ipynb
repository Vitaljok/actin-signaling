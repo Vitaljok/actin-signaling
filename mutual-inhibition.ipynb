{
 "cells": [
  {
   "cell_type": "code",
   "execution_count": 1,
   "metadata": {
    "collapsed": false
   },
   "outputs": [],
   "source": [
    "import matplotlib.pyplot as pl\n",
    "import boolean2 as bl\n",
    "from utils import plot_model"
   ]
  },
  {
   "cell_type": "code",
   "execution_count": 2,
   "metadata": {
    "collapsed": false
   },
   "outputs": [
    {
     "name": "stdout",
     "output_type": "stream",
     "text": [
      "Cycle of length 5 starting at index 3\n"
     ]
    },
    {
     "data": {
      "image/png": "[encoded data removed]",
      "text/plain": [
       "<matplotlib.figure.Figure at 0x7f92408e4f10>"
      ]
     },
     "metadata": {},
     "output_type": "display_data"
    }
   ],
   "source": [
    "rules = \"\"\n",
    "# rules += \"Rac1 = True \\n\"\n",
    "# rules += \"RhoA = True \\n\"\n",
    "rules += \"1: Rac1* = not ROCK_ and (RhoA or Dia1) \\n\"\n",
    "rules += \"1: RhoA* = not PAK and not Rac1\\n\"\n",
    "rules += \"1: PAK* = Rac1 \\n\"\n",
    "rules += \"1: ROCK* = RhoA \\n\"\n",
    "rules += \"1: ROCK_* = ROCK \\n\"\n",
    "rules += \"1: Dia1* = RhoA \\n\"\n",
    "\n",
    "pl.figure(figsize=(10,8))\n",
    "   \n",
    "model = bl.Model(rules, mode='sync')\n",
    "model.initialize(missing=bl.util.randbool)\n",
    "model.iterate(steps=30)\n",
    "\n",
    "plot_model(model.data)\n",
    "\n",
    "\n",
    "model.report_cycles()"
   ]
  },
  {
   "cell_type": "code",
   "execution_count": 7,
   "metadata": {
    "collapsed": false,
    "scrolled": true
   },
   "outputs": [
    {
     "name": "stdout",
     "output_type": "stream",
     "text": [
      "Cycle of length 4 starting at index 0\n"
     ]
    },
    {
     "data": {
      "image/png": "[encoded data removed]",
      "text/plain": [
       "<matplotlib.figure.Figure at 0x7f923e501910>"
      ]
     },
     "metadata": {},
     "output_type": "display_data"
    }
   ],
   "source": [
    "import matplotlib.pyplot as pl\n",
    "import boolean2 as bl\n",
    "from utils import plot_model\n",
    "rules = \"Rac1 = True \\n\"\n",
    "rules += \"RhoA = False \\n\"\n",
    "rules += \"1: Rac1* = not ROCK \\n\"\n",
    "rules += \"1: RhoA* = not PAK \\n\"\n",
    "rules += \"1: PAK* = Rac1 \\n\"\n",
    "rules += \"1: ROCK* = RhoA \\n\"\n",
    "\n",
    "\n",
    "pl.figure(figsize=(10,8))\n",
    "   \n",
    "model = bl.Model(rules, mode='sync')\n",
    "model.initialize(missing=bl.util.false)\n",
    "model.iterate(steps=30)\n",
    "\n",
    "plot_model(model.data)\n",
    "\n",
    "model.report_cycles()"
   ]
  },
  {
   "cell_type": "code",
   "execution_count": 6,
   "metadata": {
    "collapsed": false
   },
   "outputs": [
    {
     "name": "stdout",
     "output_type": "stream",
     "text": [
      "Cycle of length 4 starting at index 0\n"
     ]
    },
    {
     "data": {
      "image/png": "[encoded data removed]",
      "text/plain": [
       "<matplotlib.figure.Figure at 0x7f923e5226d0>"
      ]
     },
     "metadata": {},
     "output_type": "display_data"
    }
   ],
   "source": [
    "rules = \"\" \n",
    "rules += \"1: Rac1* = Rock_ or Dia1 \\n\"\n",
    "rules += \"1: RhoA* = not Rac1 \\n\"\n",
    "\n",
    "pl.figure(figsize=(10,8))   \n",
    "model = bl.Model(rules, mode='sync')\n",
    "model.initialize(missing=bl.util.randbool)\n",
    "model.iterate(steps=30)\n",
    "plot_model(model.data)\n",
    "\n",
    "model.report_cycles()\n"
   ]
  },
  {
   "cell_type": "code",
   "execution_count": 14,
   "metadata": {
    "collapsed": false
   },
   "outputs": [
    {
     "name": "stdout",
     "output_type": "stream",
     "text": [
      "Cycle of length 2 starting at index 0\n"
     ]
    },
    {
     "data": {
      "image/png": "[encoded data removed]",
      "text/plain": [
       "<matplotlib.figure.Figure at 0x7f923e84c950>"
      ]
     },
     "metadata": {},
     "output_type": "display_data"
    }
   ],
   "source": [
    "rules = \"\"\"\n",
    "1: A* = not A\n",
    "\"\"\" \n",
    "\n",
    "pl.figure(figsize=(10,8))   \n",
    "model = bl.Model(rules, mode='sync')\n",
    "model.initialize(missing=bl.util.randbool)\n",
    "model.iterate(steps=30)\n",
    "plot_model(model.data)\n",
    "\n",
    "model.report_cycles()\n"
   ]
  }
 ],
 "metadata": {
  "kernelspec": {
   "display_name": "Python 2",
   "language": "python",
   "name": "python2"
  },
  "language_info": {
   "codemirror_mode": {
    "name": "ipython",
    "version": 2
   },
   "file_extension": ".py",
   "mimetype": "text/x-python",
   "name": "python",
   "nbconvert_exporter": "python",
   "pygments_lexer": "ipython2",
   "version": "2.7.12"
  }
 },
 "nbformat": 4,
 "nbformat_minor": 1
}
