{
 "cells": [
  {
   "cell_type": "code",
   "execution_count": 1,
   "metadata": {
    "collapsed": true
   },
   "outputs": [],
   "source": [
    "import pandas as pd\n",
    "import glob"
   ]
  },
  {
   "cell_type": "code",
   "execution_count": 2,
   "metadata": {
    "collapsed": false
   },
   "outputs": [],
   "source": [
    "import os.path\n",
    "\n",
    "if (not os.path.exists(\"full-data.bin\")):\n",
    "    l = [pd.read_pickle(filename) for filename in glob.glob(\"data/chunk-*.bin\")]\n",
    "    df = pd.concat(l, axis=0)\n",
    "    df.to_pickle('full-data.bin')\n",
    "    \n",
    "df = pd.read_pickle('full-data.bin')"
   ]
  },
  {
   "cell_type": "code",
   "execution_count": 3,
   "metadata": {
    "collapsed": false,
    "scrolled": false
   },
   "outputs": [
    {
     "name": "stdout",
     "output_type": "stream",
     "text": [
      "cycle_Actin_BR\n",
      "cycle_Actin_ST\n",
      "cycle_Arp2_3\n",
      "cycle_CP\n",
      "cycle_Cdc42\n",
      "cycle_Cofilin\n",
      "cycle_Coronin\n",
      "cycle_Cortactin\n",
      "cycle_Dia1\n",
      "cycle_Dia2\n",
      "cycle_Ena_Vasp\n",
      "cycle_IRSp53\n",
      "cycle_LIMK\n",
      "cycle_PAK\n",
      "cycle_PIP2\n",
      "cycle_PKD\n",
      "cycle_Profilin\n",
      "cycle_ROCK\n",
      "cycle_ROCK_\n",
      "cycle_Rac1\n",
      "cycle_RhoA\n",
      "cycle_SSH\n",
      "cycle_Thymosin\n",
      "cycle_WASP\n",
      "cycle_WAVE\n"
     ]
    }
   ],
   "source": [
    "import re\n",
    "\n",
    "def normalizeCycle(raw):\n",
    "    str1 = ''.join(str(e) for e in raw)    \n",
    "    return re.sub(r'^(.+?)\\1+$', r'\\1', str1)        \n",
    "\n",
    "for node in df.filter(regex=\"^cycle_.+(?<!norm)(?<!len)(?<!start)$\").columns.values:\n",
    "    print(node)\n",
    "    df[\"%s_norm\" %node] = df[node].apply(normalizeCycle, 1)\n"
   ]
  },
  {
   "cell_type": "code",
   "execution_count": 17,
   "metadata": {
    "collapsed": false,
    "scrolled": false
   },
   "outputs": [
    {
     "data": {
      "text/plain": [
       "cycle_Actin_BR_norm  cycle_Actin_ST_norm\n",
       "1                    1                      4804\n",
       "                     10                     1169\n",
       "                     0                       703\n",
       "                     1101                    688\n",
       "                     1110                    515\n",
       "                     1011                    392\n",
       "1110                 1110                    350\n",
       "1101                 1101                    256\n",
       "1                    01                      134\n",
       "0111                 0111                     94\n",
       "1011                 1000                     87\n",
       "1110                 1101                     78\n",
       "1                    0111                     70\n",
       "1101                 1011                     66\n",
       "1110                 1                        64\n",
       "1101                 10                       60\n",
       "1001                 1000                     56\n",
       "1101                 0100                     55\n",
       "1100                 0100                     54\n",
       "1101                 1                        47\n",
       "1110                 01                       27\n",
       "1011                 1011                     24\n",
       "1110                 0010                     23\n",
       "1001                 1100                     23\n",
       "0110                 0010                     21\n",
       "0111                 0001                     21\n",
       "                     1110                     15\n",
       "01011                01000                    14\n",
       "01                   01                       12\n",
       "0111                 10                       11\n",
       "                     1                        11\n",
       "010                  011000                   10\n",
       "10                   10                        9\n",
       "0110                 0011                      9\n",
       "001                  001100                    7\n",
       "01101                00001                     4\n",
       "10101                00100                     4\n",
       "0011                 0001                      4\n",
       "1011                 1                         2\n",
       "                     0111                      2\n",
       "11010                00010                     2\n",
       "0011                 1001                      2\n",
       "10110                10000                     1\n",
       "dtype: int64"
      ]
     },
     "execution_count": 17,
     "metadata": {},
     "output_type": "execute_result"
    },
    {
     "data": {
      "image/png": "[encoded data removed]",
      "text/plain": [
       "<matplotlib.figure.Figure at 0x7fb6381815c0>"
      ]
     },
     "metadata": {},
     "output_type": "display_data"
    }
   ],
   "source": [
    "sr = df.groupby(by=[\"cycle_Actin_BR_norm\",\"cycle_Actin_ST_norm\"]).size().sort_values(ascending=False)\n",
    "sr.plot(kind=\"bar\");\n",
    "sr"
   ]
  },
  {
   "cell_type": "code",
   "execution_count": 16,
   "metadata": {
    "collapsed": false,
    "scrolled": false
   },
   "outputs": [
    {
     "data": {
      "text/plain": [
       "cycle_RhoA_norm  cycle_Rac1_norm\n",
       "1                0                  4419\n",
       "0                1                   874\n",
       "0110             0011                751\n",
       "1100             0110                664\n",
       "0111             0001                489\n",
       "1101             0100                442\n",
       "1110             0010                350\n",
       "0100             0111                316\n",
       "0011             1001                272\n",
       "0110             0111                236\n",
       "1011             1000                219\n",
       "1000             1110                168\n",
       "1100             1110                164\n",
       "10               10                  161\n",
       "0010             1011                141\n",
       "01               01                  133\n",
       "1001             1100                 58\n",
       "0001             1101                 42\n",
       "0011             1011                 40\n",
       "1001             1101                 19\n",
       "00010            11011                14\n",
       "000111           110011               10\n",
       "100011           111001                7\n",
       "01000            01111                 4\n",
       "00001            11101                 4\n",
       "10000            11110                 2\n",
       "00100            10111                 1\n",
       "dtype: int64"
      ]
     },
     "execution_count": 16,
     "metadata": {},
     "output_type": "execute_result"
    }
   ],
   "source": [
    "df.groupby(by=[\"cycle_RhoA_norm\",\"cycle_Rac1_norm\"]).size().sort_values(ascending=False)"
   ]
  },
  {
   "cell_type": "code",
   "execution_count": 96,
   "metadata": {
    "collapsed": false,
    "scrolled": false
   },
   "outputs": [
    {
     "data": {
      "text/plain": [
       "cycle_Actin_BR_norm  cycle_Actin_ST_norm\n",
       "1                    1                      10529\n",
       "100                  001                     3984\n",
       "001                  001                     3922\n",
       "011                  011                     3860\n",
       "110                  101                     3568\n",
       "011                  1                       2977\n",
       "101                  1                       2949\n",
       "011                  110                     2583\n",
       "                     010                     2260\n",
       "101                  101                     1582\n",
       "001011               10                      1507\n",
       "010110               010                     1253\n",
       "011                  0                       1174\n",
       "001011               001                     1124\n",
       "100101               100                      908\n",
       "                     01                       787\n",
       "101100               100                      760\n",
       "101                  011                      586\n",
       "010                  100                      547\n",
       "110                  110                      452\n",
       "1                    0                        409\n",
       "010                  010                      406\n",
       "101                  001                      383\n",
       "010110               01                       249\n",
       "110                  100                      191\n",
       "                     1                        183\n",
       "0                    0                        176\n",
       "011001               001                      139\n",
       "                     01                       116\n",
       "001                  010                       84\n",
       "100                  100                       56\n",
       "101100               10                        40\n",
       "110                  0                         24\n",
       "110010               010                       18\n",
       "                     10                        12\n",
       "101                  0                          7\n",
       "dtype: int64"
      ]
     },
     "execution_count": 96,
     "metadata": {},
     "output_type": "execute_result"
    }
   ],
   "source": [
    "df[df[\"init_Cdc42\"] == 0].groupby(by=[\"cycle_Actin_BR_norm\",\"cycle_Actin_ST_norm\"]).size().sort_values(ascending=False)"
   ]
  }
 ],
 "metadata": {
  "kernelspec": {
   "display_name": "Python 3",
   "language": "python",
   "name": "python3"
  },
  "language_info": {
   "codemirror_mode": {
    "name": "ipython",
    "version": 3
   },
   "file_extension": ".py",
   "mimetype": "text/x-python",
   "name": "python",
   "nbconvert_exporter": "python",
   "pygments_lexer": "ipython3",
   "version": "3.5.2"
  }
 },
 "nbformat": 4,
 "nbformat_minor": 1
}
