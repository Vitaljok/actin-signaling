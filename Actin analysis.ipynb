{
 "cells": [
  {
   "cell_type": "code",
   "execution_count": 1,
   "metadata": {
    "collapsed": true
   },
   "outputs": [],
   "source": [
    "import pandas as pd\n",
    "import glob"
   ]
  },
  {
   "cell_type": "code",
   "execution_count": 2,
   "metadata": {
    "collapsed": false
   },
   "outputs": [],
   "source": [
    "import os.path\n",
    "\n",
    "if (not os.path.exists(\"full-data.bin\")):\n",
    "    l = [pd.read_pickle(filename) for filename in glob.glob(\"data/chunk-*.bin\")]\n",
    "    df = pd.concat(l, axis=0)\n",
    "    df.to_pickle('full-data.bin')\n",
    "    \n",
    "df = pd.read_pickle('full-data.bin')"
   ]
  },
  {
   "cell_type": "code",
   "execution_count": 53,
   "metadata": {
    "collapsed": false,
    "scrolled": false
   },
   "outputs": [
    {
     "name": "stdout",
     "output_type": "stream",
     "text": [
      "cycle_Actin_BR\n",
      "cycle_Actin_ST\n",
      "cycle_Arp2_3\n",
      "cycle_CP\n",
      "cycle_Cdc42\n",
      "cycle_Cofilin\n",
      "cycle_Coronin\n",
      "cycle_Cortactin\n",
      "cycle_Dia1\n",
      "cycle_Dia2\n",
      "cycle_Ena_Vasp\n",
      "cycle_IRSp53\n",
      "cycle_LIMK\n",
      "cycle_PAK\n",
      "cycle_PIP2\n",
      "cycle_PKD\n",
      "cycle_Profilin\n",
      "cycle_ROCK\n",
      "cycle_Rac1\n",
      "cycle_RhoA\n",
      "cycle_SSH\n",
      "cycle_Thymosin\n",
      "cycle_WASP\n",
      "cycle_WAVE\n"
     ]
    }
   ],
   "source": [
    "import re\n",
    "\n",
    "def normalizeCycle(raw):\n",
    "    str1 = ''.join(str(e) for e in raw)    \n",
    "    return re.sub(r'^(.+?)\\1+$', r'\\1', str1)        \n",
    "\n",
    "for node in df.filter(regex=\"^cycle_.+(?<!norm)(?<!len)(?<!start)$\").columns.values:\n",
    "    print(node)\n",
    "    df[\"%s_norm\" %node] = df[node].apply(normalizeCycle, 1)\n"
   ]
  },
  {
   "cell_type": "code",
   "execution_count": 24,
   "metadata": {
    "collapsed": false,
    "scrolled": false
   },
   "outputs": [
    {
     "data": {
      "text/plain": [
       "cycle_Actin_BR_norm  cycle_Actin_ST_norm\n",
       "1                    1                      50050\n",
       "011                  011                     8185\n",
       "101                  101                     4458\n",
       "100                  001                     3984\n",
       "001                  001                     3922\n",
       "110                  101                     3568\n",
       "011                  0                       3043\n",
       "                     1                       2977\n",
       "101                  1                       2949\n",
       "011                  110                     2583\n",
       "                     010                     2260\n",
       "001011               10                      1507\n",
       "1                    0                       1349\n",
       "010110               010                     1253\n",
       "001011               001                     1124\n",
       "110                  110                      921\n",
       "100101               100                      908\n",
       "                     01                       787\n",
       "101100               100                      760\n",
       "101                  011                      586\n",
       "010                  100                      547\n",
       "                     010                      406\n",
       "101                  001                      383\n",
       "010110               01                       249\n",
       "0                    0                        237\n",
       "110                  100                      191\n",
       "                     1                        183\n",
       "011001               001                      139\n",
       "                     01                       116\n",
       "001                  010                       84\n",
       "010                  0                         58\n",
       "100                  100                       56\n",
       "110                  0                         51\n",
       "001                  0                         41\n",
       "101100               10                        40\n",
       "110010               010                       18\n",
       "101                  0                         13\n",
       "110010               10                        12\n",
       "100                  0                          2\n",
       "dtype: int64"
      ]
     },
     "execution_count": 24,
     "metadata": {},
     "output_type": "execute_result"
    },
    {
     "data": {
      "image/png": "[encoded data removed]",
      "text/plain": [
       "<matplotlib.figure.Figure at 0x7fd63bfdd278>"
      ]
     },
     "metadata": {},
     "output_type": "display_data"
    }
   ],
   "source": [
    "sr = df.groupby(by=[\"cycle_Actin_BR_norm\",\"cycle_Actin_ST_norm\"]).size().sort_values(ascending=False)\n",
    "sr.plot(kind=\"bar\");\n",
    "sr"
   ]
  },
  {
   "cell_type": "code",
   "execution_count": 55,
   "metadata": {
    "collapsed": false
   },
   "outputs": [
    {
     "data": {
      "text/plain": [
       "cycle_RhoA_norm  cycle_Rac1_norm\n",
       "0                0                     61\n",
       "                 001                   41\n",
       "                 010                   58\n",
       "                 011                16699\n",
       "                 1                  51399\n",
       "                 100                    2\n",
       "                 101                 5839\n",
       "                 110                 4641\n",
       "001              001                 9241\n",
       "010              010                 2758\n",
       "1                0                    176\n",
       "100              100                 9085\n",
       "dtype: int64"
      ]
     },
     "execution_count": 55,
     "metadata": {},
     "output_type": "execute_result"
    }
   ],
   "source": [
    "df.groupby(by=[\"cycle_RhoA_norm\",\"cycle_Rac1_norm\"]).size() #.sort_values(ascending=False)"
   ]
  }
 ],
 "metadata": {
  "kernelspec": {
   "display_name": "Python 3",
   "language": "python",
   "name": "python3"
  },
  "language_info": {
   "codemirror_mode": {
    "name": "ipython",
    "version": 3
   },
   "file_extension": ".py",
   "mimetype": "text/x-python",
   "name": "python",
   "nbconvert_exporter": "python",
   "pygments_lexer": "ipython3",
   "version": "3.5.2"
  }
 },
 "nbformat": 4,
 "nbformat_minor": 1
}
