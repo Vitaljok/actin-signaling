{
 "cells": [
  {
   "cell_type": "code",
   "execution_count": 2,
   "metadata": {
    "collapsed": false
   },
   "outputs": [],
   "source": [
    "import boolean2 as bl\n",
    "import matplotlib.pylab as pl\n",
    "import numpy as np\n",
    "from random import choice"
   ]
  },
  {
   "cell_type": "code",
   "execution_count": 66,
   "metadata": {
    "collapsed": true
   },
   "outputs": [],
   "source": [
    "import logging\n",
    "    \n",
    "logger = logging.getLogger()\n",
    "logger.handlers = []\n",
    "hdlr = logging.FileHandler('out.txt')\n",
    "formatter = logging.Formatter('%(asctime)s %(message)s')\n",
    "hdlr.setFormatter(formatter)\n",
    "logger.addHandler(hdlr) \n",
    "logger.setLevel(logging.INFO)"
   ]
  },
  {
   "cell_type": "code",
   "execution_count": 3,
   "metadata": {
    "collapsed": false
   },
   "outputs": [],
   "source": [
    "import itertools\n",
    "\n",
    "def getRule(act, inh):\n",
    "\n",
    "    actLen = len(act)\n",
    "    inhLen = len(inh)\n",
    "        \n",
    "    rules = []\n",
    "    \n",
    "    for case in itertools.product([0, 1], repeat=actLen + inhLen):\n",
    "        actLevel = sum(case[0:actLen]) \n",
    "        inhLevel = sum(case[actLen:])\n",
    "        if actLevel > 0 and actLevel >= inhLevel:\n",
    "            rules.append(case)\n",
    "    \n",
    "    res = \"\"\n",
    "    \n",
    "    for rule in rules:                \n",
    "        line = \"\"\n",
    "            \n",
    "        for idx, val in enumerate(act + inh):         \n",
    "            if line != \"\":\n",
    "                line += \" and \"\n",
    "            \n",
    "            if rule[idx] == 0:\n",
    "                line += \"not \" + val\n",
    "            else:\n",
    "                line += \"\" + val\n",
    "        \n",
    "        if res != \"\":\n",
    "            res += \" or \"\n",
    "        \n",
    "        res += line\n",
    "            \n",
    "    return res\n",
    "    \n",
    "# getRule([\"WASP\", \"WAVE\", \"Cortactin\"], [\"Profilin\", \"Thymosin\", \"Coronin\"])"
   ]
  },
  {
   "cell_type": "code",
   "execution_count": null,
   "metadata": {
    "collapsed": false,
    "scrolled": true
   },
   "outputs": [],
   "source": [
    " \n",
    "rules = \"\"\n",
    "rules += \"1: WASP* = not Thymosin and (Rac1 or Cdc42 or PIP2 or Cortactin or IRSp53) \\n\"\n",
    "rules += \"1: WAVE* = Rac1 \\n\" # or IRSp53\n",
    "rules += \"1: Arp2_3* = PAK and (\" + getRule([\"WASP\", \"WAVE\", \"Cortactin\"], [\"Profilin\", \"Thymosin\", \"Coronin\"]) + \")\\n\"\n",
    "rules += \"1: Rac1* = not ROCK and (Arp2_3 or Dia1) \\n\"\n",
    "rules += \"1: RhoA* = not Rac1 and not PAK \\n\"\n",
    "rules += \"1: Thymosin* = not WASP and not Cofilin \\n\" \n",
    "rules += \"1: Cortactin* = (Rac1 and PAK) or ((Rac1 or PAK) and not (Coronin and PKD)) \\n\" # voting\n",
    "rules += \"1: IRSp53* = Cdc42 or Rac1 \\n\"\n",
    "rules += \"1: PAK* = Rac1 or Cdc42 or PKD \\n\"\n",
    "rules += \"1: Dia1* = RhoA and not CP \\n\"\n",
    "rules += \"1: Dia2* = Rac1 or RhoA \\n\"\n",
    "rules += \"1: Ena_Vasp* = IRSp53 or WASP or PKD \\n\"\n",
    "rules += \"1: Profilin* = \" + getRule([\"WASP\", \"Dia1\", \"WAVE\"], [\"Thymosin\", \"PIP2\"]) + \" \\n\"\n",
    "rules += \"1: CP* = (Arp2_3 and not Ena_Vasp) or not PIP2 \\n\"\n",
    "rules += \"1: Coronin* = SSH \\n\"\n",
    "rules += \"1: ROCK* = RhoA and not (SSH and Coronin) \\n\"\n",
    "rules += \"1: PKD* = ROCK \\n\"\n",
    "rules += \"1: LIMK* = (ROCK or PAK) and not SSH \\n\"\n",
    "rules += \"1: Cofilin* = \" + getRule([\"SSH\", \"Arp2_3\"], [\"PIP2\", \"Thymosin\", \"LIMK\", \"Cortactin\"]) + \"\\n\"\n",
    "rules += \"1: SSH* = (Coronin or Rac1) and not PKD \\n\"\n",
    "rules += \"1: Actin_BR* = (Arp2_3) \\n\" # or Cofilin) and not Thymosin \n",
    "rules += \"1: Actin_ST* = Profilin and (\" + getRule([\"Dia1\", \"Dia2\", \"Ena_Vasp\"], [\"CP\", \"Cofilin\"]) + \")\\n\"\n",
    "\n",
    "\n",
    "res = {}\n",
    "\n",
    "df = pd.DataFrame(columns=['model'])\n",
    "\n",
    "for n in xrange(10):\n",
    "    model = bl.Model(rules, mode='sync')\n",
    "    model.initialize(missing=bl.util.randbool)\n",
    "    model.iterate(steps=30)\n",
    "\n",
    "    \n",
    "    \n",
    "    (cStart, cLen) = model.detect_cycles()\n",
    "    \n",
    "    logger.info(n)\n",
    "    \n",
    "    vals = []\n",
    "    for i in xrange(cStart, cStart+cLen):\n",
    "        val = (model.data['Actin_BR'][i], model.data['Actin_ST'][i])\n",
    "        vals.append(val)\n",
    "\n",
    "    tup = tuple(vals)        \n",
    "    res[tup] = res.get(tup, 0) + 1\n",
    "\n",
    "print \"\\n\\n\"\n",
    "for w in sorted(res, key=res.get, reverse=True):\n",
    "    logger.info=le(\"%d\\t%s\", res[w], w)\n",
    "\n",
    " "
   ]
  },
  {
   "cell_type": "code",
   "execution_count": null,
   "metadata": {
    "collapsed": true
   },
   "outputs": [],
   "source": [
    "model = bl.Model(rules, mode='sync')\n",
    "model.initialize(missing=bl.util.randbool)\n",
    "model.iterate(steps=30)\n",
    "\n",
    "(cStart, cLen) = model.detect_cycles()\n",
    "\n",
    "print (cStart, cLen)\n",
    "\n",
    "vals = []\n",
    "for i in xrange(cStart, cStart+cLen):\n",
    "    val = (model.data['Actin_BR'][i], model.data['Actin_ST'][i])\n",
    "    vals.append(val)\n",
    "\n",
    "print vals\n",
    "\n",
    "\n",
    "pl.figure(figsize=(10,8))\n",
    "\n",
    "x = []\n",
    "lab = []\n",
    "for key, value in sorted(model.data.iteritems()):    \n",
    "    lab.append(key)\n",
    "    x.append(value)\n",
    "\n",
    "pl.imshow(x, interpolation='none');\n",
    "pl.yticks( np.arange(len(lab)), lab );\n",
    "pl.grid()   "
   ]
  }
 ],
 "metadata": {
  "kernelspec": {
   "display_name": "Python 2",
   "language": "python",
   "name": "python2"
  },
  "language_info": {
   "codemirror_mode": {
    "name": "ipython",
    "version": 2
   },
   "file_extension": ".py",
   "mimetype": "text/x-python",
   "name": "python",
   "nbconvert_exporter": "python",
   "pygments_lexer": "ipython2",
   "version": "2.7.12"
  }
 },
 "nbformat": 4,
 "nbformat_minor": 1
}
