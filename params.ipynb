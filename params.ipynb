{
 "cells": [
  {
   "cell_type": "code",
   "execution_count": 10,
   "metadata": {
    "collapsed": false
   },
   "outputs": [],
   "source": [
    "def default_params():\n",
    "    return {\n",
    "        'save_file': False,\n",
    "#         'name': 'example',\n",
    "        'output_root': 'reports',\n",
    "        'chunks': 10,\n",
    "        'chunk_size': 100,\n",
    "        'rewrite': False\n",
    "    }\n",
    "\n",
    "def build_filename(params, fname):\n",
    "    path = params['output_root'] + \"/\" + params + params['name'] + \"/\"\n",
    "    !mkdir -p {path}\n",
    "    return path+fname\n",
    "    \n",
    "# def prepare_dirs(params): \n",
    "#     if params['save_file']:\n",
    "#         params['output_path'] = params['output_root'] + \"/\" + params['rules'] + \"/\"\n",
    "#         !mkdir -p {params['output_path']}      \n",
    "\n",
    "try:\n",
    "    PARAMS\n",
    "except NameError:\n",
    "    PARAMS = default_params()\n",
    "\n",
    "# prepare_dirs(PARAMS)"
   ]
  }
 ],
 "metadata": {
  "kernelspec": {
   "display_name": "Python 3",
   "language": "python",
   "name": "python3"
  },
  "language_info": {
   "codemirror_mode": {
    "name": "ipython",
    "version": 3
   },
   "file_extension": ".py",
   "mimetype": "text/x-python",
   "name": "python",
   "nbconvert_exporter": "python",
   "pygments_lexer": "ipython3",
   "version": "3.5.2"
  }
 },
 "nbformat": 4,
 "nbformat_minor": 1
}
