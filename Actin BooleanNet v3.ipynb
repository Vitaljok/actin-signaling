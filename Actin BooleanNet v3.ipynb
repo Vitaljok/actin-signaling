{
 "cells": [
  {
   "cell_type": "code",
   "execution_count": 1,
   "metadata": {
    "collapsed": false
   },
   "outputs": [],
   "source": [
    "%matplotlib inline\n",
    "import matplotlib\n",
    "import matplotlib.pylab as pl\n",
    "import boolean2 as bl\n",
    "import pandas as pd\n",
    "from time import gmtime, strftime"
   ]
  },
  {
   "cell_type": "code",
   "execution_count": null,
   "metadata": {
    "collapsed": false
   },
   "outputs": [],
   "source": [
    "%run \"rules.ipynb\"\n",
    "%run \"utils.ipynb\""
   ]
  },
  {
   "cell_type": "code",
   "execution_count": null,
   "metadata": {
    "collapsed": false,
    "scrolled": false
   },
   "outputs": [],
   "source": [
    "model = bl.Model(getRules(), mode='sync')\n",
    "for c in range(100):\n",
    "    df = pd.DataFrame()\n",
    "    for i in range(1000):\n",
    "        model.initialize(missing=bl.util.randbool)\n",
    "        model.iterate(steps=30)\n",
    "\n",
    "        dic = {}\n",
    "        (cycle_start, cycle_len) = model.detect_cycles()\n",
    "        dic['cycle_start'] = cycle_start\n",
    "        dic['cycle_len'] = cycle_len\n",
    "        for key, value in sorted(model.data.iteritems()):    \n",
    "            dic['init_'+key] = int(value[0])\n",
    "            dic['cycle_'+key] = map(int, value[cycle_start:(cycle_start + cycle_len)])\n",
    "        dic['data'] = model.data\n",
    "        df = df.append(pd.Series(dic), ignore_index=True)\n",
    "\n",
    "    df.to_pickle(\"data/chunk-%s.bin\" % strftime(\"%Y-%m-%d-%H-%M-%S\", gmtime()))"
   ]
  }
 ],
 "metadata": {
  "kernelspec": {
   "display_name": "Python 2",
   "language": "python",
   "name": "python2"
  },
  "language_info": {
   "codemirror_mode": {
    "name": "ipython",
    "version": 2
   },
   "file_extension": ".py",
   "mimetype": "text/x-python",
   "name": "python",
   "nbconvert_exporter": "python",
   "pygments_lexer": "ipython2",
   "version": "2.7.12"
  }
 },
 "nbformat": 4,
 "nbformat_minor": 1
}
