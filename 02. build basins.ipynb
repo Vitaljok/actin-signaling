{
 "cells": [
  {
   "cell_type": "code",
   "execution_count": null,
   "metadata": {
    "collapsed": true
   },
   "outputs": [],
   "source": [
    "%run params.ipynb"
   ]
  },
  {
   "cell_type": "code",
   "execution_count": null,
   "metadata": {
    "collapsed": false
   },
   "outputs": [],
   "source": [
    "if 'rules' in PARAMS:\n",
    "    boolean_rules = PARAMS['rules']\n",
    "else:\n",
    "    import rules.example\n",
    "    boolean_rules = rules.example.build_rules()['rules']\n",
    "        \n",
    "# boolean_rules"
   ]
  },
  {
   "cell_type": "code",
   "execution_count": null,
   "metadata": {
    "collapsed": false
   },
   "outputs": [],
   "source": [
    "%matplotlib inline\n",
    "import matplotlib\n",
    "import matplotlib.pylab as pl\n",
    "import boolean2 as bl\n",
    "import pandas as pd\n",
    "import numpy as np\n",
    "from time import gmtime, strftime\n",
    "import utils\n",
    "import warnings"
   ]
  },
  {
   "cell_type": "code",
   "execution_count": null,
   "metadata": {
    "collapsed": false,
    "scrolled": false
   },
   "outputs": [],
   "source": [
    "model = bl.Model(boolean_rules, mode='sync')\n",
    "\n",
    "print(\"Running boolean simulations\")\n",
    "\n",
    "for c in range(PARAMS[\"chunks\"]):\n",
    "    chunk = []\n",
    "    for i in range(PARAMS[\"chunk_size\"]):\n",
    "        model.initialize(missing=bl.util.randbool)\n",
    "        model.iterate(steps=30)\n",
    "\n",
    "        dic = {}\n",
    "        (cycle_start, cycle_len) = model.detect_cycles()\n",
    "        dic['cycle_start'] = cycle_start\n",
    "        dic['cycle_len'] = cycle_len\n",
    "        for key, value in sorted(model.data.items()):    \n",
    "            dic['init_'+key] = int(value[0])\n",
    "            dic['cycle_'+key] = ''.join(map(lambda x: str(x*1), value[cycle_start:(cycle_start + cycle_len)]))\n",
    "        dic['data'] = model.data    \n",
    "        chunk.append(dic)\n",
    "\n",
    "    warnings.filterwarnings('ignore')    \n",
    "    pd.DataFrame(chunk).to_hdf(\n",
    "        build_filename(PARAMS, \"simulations.h5\"),     \n",
    "        key=\"%s\" % strftime(\"chunk_%Y_%m_%d__%H_%M_%S\", gmtime()))    \n",
    "    warnings.filterwarnings('default')\n",
    "    \n",
    "    print(\"Saved chunk {}\".format(c))"
   ]
  }
 ],
 "metadata": {
  "kernelspec": {
   "display_name": "Python 3",
   "language": "python",
   "name": "python3"
  },
  "language_info": {
   "codemirror_mode": {
    "name": "ipython",
    "version": 3
   },
   "file_extension": ".py",
   "mimetype": "text/x-python",
   "name": "python",
   "nbconvert_exporter": "python",
   "pygments_lexer": "ipython3",
   "version": "3.5.2"
  }
 },
 "nbformat": 4,
 "nbformat_minor": 1
}
