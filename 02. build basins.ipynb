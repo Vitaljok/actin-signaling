{
 "cells": [
  {
   "cell_type": "code",
   "execution_count": 1,
   "metadata": {
    "collapsed": true
   },
   "outputs": [],
   "source": [
    "%run params.ipynb"
   ]
  },
  {
   "cell_type": "code",
   "execution_count": 2,
   "metadata": {
    "collapsed": true
   },
   "outputs": [],
   "source": [
    "if 'rules' in PARAMS:\n",
    "    boolean_rules = PARAMS['rules']\n",
    "else:\n",
    "    import rules.example\n",
    "    boolean_rules = rules.example.build_rules()['rules']\n",
    "\n",
    "# boolean_rules"
   ]
  },
  {
   "cell_type": "code",
   "execution_count": 3,
   "metadata": {
    "collapsed": true
   },
   "outputs": [],
   "source": [
    "%matplotlib inline\n",
    "import matplotlib\n",
    "import matplotlib.pylab as pl\n",
    "import boolean2 as bl\n",
    "import pandas as pd\n",
    "import numpy as np\n",
    "from time import gmtime, strftime\n",
    "import utils\n",
    "import warnings\n",
    "import os"
   ]
  },
  {
   "cell_type": "code",
   "execution_count": 4,
   "metadata": {
    "collapsed": true
   },
   "outputs": [],
   "source": [
    "def simulate_chunk(c):\n",
    "    chunk = []\n",
    "    model = bl.Model(boolean_rules, mode='sync')\n",
    "    for i in range(PARAMS[\"chunk_size\"]):\n",
    "        model.initialize(missing=bl.util.randbool)\n",
    "        model.iterate(steps=30)\n",
    "\n",
    "        dic = {}\n",
    "        (cycle_start, cycle_len) = model.detect_cycles()\n",
    "        dic['cycle_start'] = cycle_start\n",
    "        dic['cycle_len'] = cycle_len\n",
    "        for key, value in sorted(model.data.items()):\n",
    "            dic['init_' + key] = int(value[0])\n",
    "            dic['cycle_' + key] = ''.join(\n",
    "                map(lambda x: str(x * 1), value[cycle_start:(\n",
    "                    cycle_start + cycle_len)]))\n",
    "        dic['data'] = model.data\n",
    "        chunk.append(dic)\n",
    "\n",
    "    print(\"Chunk created {}\".format(c))\n",
    "    return chunk    "
   ]
  },
  {
   "cell_type": "code",
   "execution_count": 5,
   "metadata": {
    "collapsed": false,
    "scrolled": false
   },
   "outputs": [
    {
     "name": "stdout",
     "output_type": "stream",
     "text": [
      "Running boolean simulations on 16 CPUs\n",
      "Chunk created 4\n",
      "Chunk created 2\n",
      "Chunk created 1\n",
      "Chunk created 3\n",
      "Chunk created 8\n",
      "Chunk created 9\n",
      "Chunk created 7\n",
      "Chunk created 0\n",
      "Chunk created 5\n",
      "Chunk created 6\n"
     ]
    }
   ],
   "source": [
    "import multiprocessing\n",
    "cpu_count = multiprocessing.cpu_count()\n",
    "\n",
    "print(\"Running boolean simulations on {} CPUs\".format(cpu_count))\n",
    "pool = multiprocessing.Pool(cpu_count)\n",
    "chunks = pool.map(simulate_chunk, range(PARAMS[\"chunks\"]))\n",
    "pool.close()\n",
    "pool.terminate()"
   ]
  },
  {
   "cell_type": "code",
   "execution_count": 15,
   "metadata": {
    "collapsed": false
   },
   "outputs": [
    {
     "name": "stdout",
     "output_type": "stream",
     "text": [
      "Saving chunks to data file\n"
     ]
    }
   ],
   "source": [
    "filename = build_filename(PARAMS, \"simulations.h5\")\n",
    "if PARAMS['rewrite'] and os.path.exists(filename):\n",
    "    print(\"Removing previous simulations\")\n",
    "    os.remove(filename)\n",
    "\n",
    "print(\"Saving chunks to data file\")\n",
    "frame = pd.DataFrame()\n",
    "for i, chunk in enumerate(chunks):\n",
    "     frame = frame.append(pd.DataFrame(chunk))\n",
    "\n",
    "warnings.filterwarnings('ignore')\n",
    "frame.to_hdf(filename, key=\"%s\" % strftime(\"chunk_%Y_%m_%d__%H_%M_%S\", gmtime()))\n",
    "warnings.filterwarnings('default')"
   ]
  },
  {
   "cell_type": "code",
   "execution_count": null,
   "metadata": {
    "collapsed": true
   },
   "outputs": [],
   "source": [
    "del frame\n",
    "del chunks"
   ]
  }
 ],
 "metadata": {
  "kernelspec": {
   "display_name": "Python 3",
   "language": "python",
   "name": "python3"
  },
  "language_info": {
   "codemirror_mode": {
    "name": "ipython",
    "version": 3
   },
   "file_extension": ".py",
   "mimetype": "text/x-python",
   "name": "python",
   "nbconvert_exporter": "python",
   "pygments_lexer": "ipython3",
   "version": "3.5.2"
  }
 },
 "nbformat": 4,
 "nbformat_minor": 1
}
