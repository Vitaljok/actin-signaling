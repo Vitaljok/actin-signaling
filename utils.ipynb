{
 "cells": [
  {
   "cell_type": "code",
   "execution_count": 2,
   "metadata": {
    "collapsed": false
   },
   "outputs": [],
   "source": [
    "import matplotlib.pylab as pl\n",
    "\n",
    "def plotModel(data, title=\"\"):\n",
    "    x = []\n",
    "    lab = []\n",
    "    for key, value in sorted(data.iteritems()):    \n",
    "        lab.append(key)\n",
    "        x.append(value)\n",
    "\n",
    "    pl.title(title.replace(\"\\n\", \"; \"))\n",
    "    pl.imshow(x, interpolation='none');\n",
    "    pl.yticks( np.arange(len(lab)), lab );\n",
    "    pl.grid()\n",
    "    \n",
    "    \n",
    "def plotPlde(data, title=\"\"):\n",
    "    for col in data:\n",
    "        pl.plot(data[col], label=col)   \n",
    "    pl.ylim((-0.1, 1.1))\n",
    "    pl.legend(loc=\"center left\", bbox_to_anchor=(1, 0.5));\n",
    "    pl.title(title.replace(\"\\n\", \"; \"))"
   ]
  }
 ],
 "metadata": {
  "kernelspec": {
   "display_name": "Python 2",
   "language": "python",
   "name": "python2"
  },
  "language_info": {
   "codemirror_mode": {
    "name": "ipython",
    "version": 2
   },
   "file_extension": ".py",
   "mimetype": "text/x-python",
   "name": "python",
   "nbconvert_exporter": "python",
   "pygments_lexer": "ipython2",
   "version": "2.7.12"
  }
 },
 "nbformat": 4,
 "nbformat_minor": 1
}
