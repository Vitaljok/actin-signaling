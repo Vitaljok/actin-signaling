{
 "cells": [
  {
   "cell_type": "code",
   "execution_count": null,
   "metadata": {
    "collapsed": true
   },
   "outputs": [],
   "source": [
    "import matplotlib.pylab as pl\n",
    "\n",
    "def plotModel(data, title=\"\"):\n",
    "    x = []\n",
    "    lab = []\n",
    "    for key, value in sorted(data.iteritems()):    \n",
    "        lab.append(key)\n",
    "        x.append(value)\n",
    "\n",
    "    pl.title(title.replace(\"\\n\", \"; \"))\n",
    "    pl.imshow(x, interpolation='none');\n",
    "    pl.yticks( np.arange(len(lab)), lab );\n",
    "    pl.grid()"
   ]
  }
 ],
 "metadata": {
  "kernelspec": {
   "display_name": "Python 2",
   "language": "python",
   "name": "python2"
  },
  "language_info": {
   "codemirror_mode": {
    "name": "ipython",
    "version": 2
   },
   "file_extension": ".py",
   "mimetype": "text/x-python",
   "name": "python",
   "nbconvert_exporter": "python",
   "pygments_lexer": "ipython2",
   "version": "2.7.12"
  }
 },
 "nbformat": 4,
 "nbformat_minor": 1
}
