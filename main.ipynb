{
 "cells": [
  {
   "cell_type": "code",
   "execution_count": null,
   "metadata": {
    "collapsed": false
   },
   "outputs": [],
   "source": [
    "%run params.ipynb\n",
    "import rules.example\n",
    "\n",
    "for name, rules in [('example', rules.example.build_rules())]:\n",
    "    PARAMS['save_file'] = True\n",
    "    PARAMS['name'] = name\n",
    "    PARAMS['graph'] = rules['graph']          \n",
    "    PARAMS['rules'] = rules['rules']        \n",
    "    \n",
    "    %run \"01. structural analysis.ipynb\"\n",
    "    %run \"02. build basins.ipynb\"\n",
    "    %run \"03. analyse basins.ipynb\""
   ]
  },
  {
   "cell_type": "code",
   "execution_count": null,
   "metadata": {
    "collapsed": false
   },
   "outputs": [],
   "source": [
    "import re\n",
    "import rules.v01_oscillating as rul\n",
    "from rules.enzymes import *\n",
    "\n",
    "base_name = re.sub(\".+\\.\", \"\", rul.__name__)\n",
    "\n",
    "all_nodes = {Arp2_3, CP, Cdc42, Cofilin, Coronin, Cortactin, \n",
    "             Dia1, Dia2, Ena_Vasp, IRSp53, LIMK, PAK, PIP2, PKD, Profilin, \n",
    "             ROCK, Rac1, RhoA, SSH, Thymosin, WASP, WAVE}\n",
    "\n",
    "rules_map = {}\n",
    "orig_rules = rul.build_rules() \n",
    "rules_map[base_name] = orig_rules\n",
    "\n",
    "# knockdown nodes\n",
    "for node in all_nodes:\n",
    "    graph = orig_rules[\"graph\"].copy()\n",
    "    rules = orig_rules['rules']\n",
    "    \n",
    "    graph.remove_edges_from([(node, target) for target in list(graph[node])])      \n",
    "    rules = re.sub('1:\\s*'+node+'\\*\\s*=.+', '', rules)    \n",
    "    rules = rules + '1: '+node+'* = False \\n'\n",
    "    \n",
    "    rules_map[base_name+\"_del_\"+node] = {\"graph\": graph, \"rules\": rules}\n",
    "\n",
    "\n",
    "# multi-knockdowns\n",
    "for nodes in [[Cdc42, Rac1], [Dia1, Dia2]]:\n",
    "    graph = orig_rules[\"graph\"].copy()    \n",
    "    rules = orig_rules['rules']\n",
    "    \n",
    "    for node in nodes:\n",
    "        graph.remove_edges_from([(node, target) for target in list(graph[node])])      \n",
    "        rules = re.sub('1:\\s*'+node+'\\*\\s*=.+', '', rules)    \n",
    "        rules = rules + '1: '+node+'* = False \\n'\n",
    "              \n",
    "    rules_map[base_name+\"_del_\"+\"_\".join(nodes)] = {\"graph\": graph, \"rules\": rules}\n",
    "    \n",
    "sorted(rules_map.keys())\n",
    "\n",
    "# print(rules_map['v01_oscillating_del_Cdc42']['rules'])"
   ]
  },
  {
   "cell_type": "code",
   "execution_count": null,
   "metadata": {
    "collapsed": false
   },
   "outputs": [],
   "source": [
    "import re\n",
    "import rules.v02_fixing_Arp2_3 as rul\n",
    "from rules.enzymes import *\n",
    "\n",
    "base_name = re.sub(\".+\\.\", \"\", rul.__name__)\n",
    "\n",
    "all_nodes = {Arp2_3, CP, Cdc42, Cofilin, Coronin, Cortactin, \n",
    "             Dia1, Dia2, Ena_Vasp, IRSp53, LIMK, PAK, PIP2, PKD, Profilin, \n",
    "             ROCK, Rac1, RhoA, SSH, Thymosin, WASP, WAVE}\n",
    "\n",
    "rules_map = {}\n",
    "orig_rules = rul.build_rules() \n",
    "rules_map[base_name] = orig_rules\n",
    "\n",
    "# knockdown nodes\n",
    "for node in all_nodes:\n",
    "    graph = orig_rules[\"graph\"].copy()\n",
    "    rules = orig_rules['rules']\n",
    "    \n",
    "    graph.remove_edges_from([(node, target) for target in list(graph[node])])      \n",
    "    rules = re.sub('1:\\s*'+node+'\\*\\s*=.+', '', rules)    \n",
    "    rules = rules + '1: '+node+'* = False \\n'\n",
    "    \n",
    "    rules_map[base_name+\"_del_\"+node] = {\"graph\": graph, \"rules\": rules}\n",
    "\n",
    "\n",
    "# multi-knockdowns\n",
    "for nodes in [{Cdc42, Rac1}, [Dia1, Dia2]]:\n",
    "    graph = orig_rules[\"graph\"].copy()    \n",
    "    rules = orig_rules['rules']\n",
    "    \n",
    "    for node in nodes:\n",
    "        graph.remove_edges_from([(node, target) for target in list(graph[node])])      \n",
    "        rules = re.sub('1:\\s*'+node+'\\*\\s*=.+', '', rules)    \n",
    "        rules = rules + '1: '+node+'* = False \\n'\n",
    "              \n",
    "    rules_map[base_name+\"_del_\"+\"_\".join(nodes)] = {\"graph\": graph, \"rules\": rules}\n",
    "    \n",
    "sorted(rules_map.keys())\n",
    "\n",
    "# print(rules_map['v01_oscillating_del_Cdc42']['rules'])"
   ]
  },
  {
   "cell_type": "code",
   "execution_count": null,
   "metadata": {
    "collapsed": false,
    "scrolled": true
   },
   "outputs": [],
   "source": [
    "### run selected rules\n",
    "\n",
    "%run params.ipynb\n",
    "\n",
    "for name, rules in sorted(rules_map.items()):\n",
    "    print(\"====== \"+name)    \n",
    "    PARAMS['name'] = name\n",
    "    PARAMS['save_file'] = True\n",
    "    PARAMS['graph'] = rules['graph']\n",
    "    PARAMS['rules'] = rules['rules']\n",
    "    PARAMS['chunk_size'] = 100\n",
    "    PARAMS['chunks'] = 5\n",
    "    PARAMS['report_basins'] = [[Actin_BR, Actin_ST]]\n",
    "    %run \"01. structural analysis.ipynb\"\n",
    "    %run \"02. build basins.ipynb\"\n",
    "    %run \"03. analyse basins.ipynb\""
   ]
  },
  {
   "cell_type": "code",
   "execution_count": null,
   "metadata": {
    "collapsed": false,
    "scrolled": false
   },
   "outputs": [],
   "source": [
    "# build summary for selected rules map\n",
    "import pandas as pd\n",
    "import numpy as np\n",
    "\n",
    "def color_delta(s):\n",
    "    base = s['base']    \n",
    "    colors = [ 'red' if s > 0 else 'blue' if s < 0 else 'black' for s in np.sign(s - base)]    \n",
    "    return [ 'color: {}'.format(c)  for c in colors]\n",
    "\n",
    "cases = sorted(rules_map.keys())\n",
    "rep = pd.read_csv(\"reports/\"+cases[0]+\"/weighted_activity.csv\", index_col=0)\n",
    "rep.columns = [\"base\"]\n",
    "for case in cases[1:]:\n",
    "    name = re.sub(base_name+\"_del_\", \"\", case)\n",
    "    rep[name] = pd.read_csv(\"reports/\"+case+\"/weighted_activity.csv\", index_col=0).ix[:, 0].rename(name)\n",
    "\n",
    "rep['mean'] = rep.mean(axis=1)\n",
    "rep.to_csv(\"reports/\"+cases[0]+\"_summary.csv\")\n",
    "\n",
    "styler = rep.style.apply(color_delta, axis=1)\n",
    "\n",
    "with open('reports/'+cases[0]+'_summary.html', 'w') as fo:\n",
    "    fo.write(styler.render())\n",
    "    \n",
    "styler"
   ]
  }
 ],
 "metadata": {
  "kernelspec": {
   "display_name": "Python 3",
   "language": "python",
   "name": "python3"
  },
  "language_info": {
   "codemirror_mode": {
    "name": "ipython",
    "version": 3
   },
   "file_extension": ".py",
   "mimetype": "text/x-python",
   "name": "python",
   "nbconvert_exporter": "python",
   "pygments_lexer": "ipython3",
   "version": "3.5.2"
  }
 },
 "nbformat": 4,
 "nbformat_minor": 1
}
