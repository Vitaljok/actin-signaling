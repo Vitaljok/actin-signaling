{
 "cells": [
  {
   "cell_type": "code",
   "execution_count": 2,
   "metadata": {
    "collapsed": false
   },
   "outputs": [
    {
     "name": "stdout",
     "output_type": "stream",
     "text": [
      "Saving dependecny matrix for example\n",
      "Running boolean simulations\n",
      "Saved chunk 0\n",
      "Saved chunk 1\n",
      "Saved chunk 2\n",
      "Saved chunk 3\n",
      "Saved chunk 4\n",
      "Saved chunk 5\n",
      "Saved chunk 6\n",
      "Saved chunk 7\n",
      "Saved chunk 8\n",
      "Saved chunk 9\n",
      "Normalizing cycles\n",
      "Reporting simple basins\n"
     ]
    }
   ],
   "source": [
    "%run params.ipynb\n",
    "import rules.example\n",
    "\n",
    "for name, rules in [('example', rules.example.build_rules())]:\n",
    "    PARAMS['save_file'] = True\n",
    "    PARAMS['name'] = name\n",
    "    PARAMS['graph'] = rules['graph']          \n",
    "    PARAMS['rules'] = rules['rules']        \n",
    "    \n",
    "    %run \"01. structural analysis.ipynb\"\n",
    "    %run \"02. build basins.ipynb\"\n",
    "    %run \"03. analyse basins.ipynb\""
   ]
  },
  {
   "cell_type": "code",
   "execution_count": 2,
   "metadata": {
    "collapsed": false
   },
   "outputs": [
    {
     "data": {
      "text/plain": [
       "['v01_oscillating',\n",
       " 'v01_oscillating_del_Arp2_3',\n",
       " 'v01_oscillating_del_CP',\n",
       " 'v01_oscillating_del_Coronin',\n",
       " 'v01_oscillating_del_Cortactin',\n",
       " 'v01_oscillating_del_Dia1',\n",
       " 'v01_oscillating_del_Dia2',\n",
       " 'v01_oscillating_del_Rac1',\n",
       " 'v01_oscillating_del_WAVE']"
      ]
     },
     "execution_count": 2,
     "metadata": {},
     "output_type": "execute_result"
    }
   ],
   "source": [
    "import re\n",
    "import rules.v01_oscillating\n",
    "from rules.enzymes import *\n",
    "\n",
    "rules_map = {}\n",
    "rules_map[\"v01_oscillating\"] = rules.v01_oscillating.build_rules()\n",
    "orig_rules = rules_map[\"v01_oscillating\"]\n",
    "\n",
    "# knockdown nodes\n",
    "for node in [CP, Coronin, Arp2_3, Dia1, Dia2, Rac1, WAVE, Cortactin]:\n",
    "    graph = orig_rules[\"graph\"].copy()\n",
    "    graph.remove_edges_from([(node, target) for target in list(graph[node])])      \n",
    "    \n",
    "    rules = re.sub('1:\\s*'+node+'\\*\\s*=.+', '1: '+node+'* = False', orig_rules['rules'])    \n",
    "    \n",
    "    rules_map[\"v01_oscillating_del_\"+node] = {\"graph\": graph, \"rules\": rules}\n",
    "\n",
    "sorted(rules_map.keys())"
   ]
  },
  {
   "cell_type": "code",
   "execution_count": null,
   "metadata": {
    "collapsed": false,
    "scrolled": false
   },
   "outputs": [
    {
     "name": "stdout",
     "output_type": "stream",
     "text": [
      "====== v01_oscillating\n",
      "Saving dependecny matrix for v01_oscillating\n",
      "Running boolean simulations\n"
     ]
    }
   ],
   "source": [
    "### run selected rules\n",
    "\n",
    "%run params.ipynb\n",
    "\n",
    "for name, rules in sorted(rules_map.items()):\n",
    "    print(\"====== \"+name)    \n",
    "    PARAMS['name'] = name\n",
    "    PARAMS['save_file'] = True\n",
    "    PARAMS['graph'] = rules['graph']\n",
    "    PARAMS['rules'] = rules['rules']\n",
    "    PARAMS['chunk_size'] = 100\n",
    "    PARAMS['chunks'] = 100\n",
    "    PARAMS['report_basins'] = [[Actin_BR, Actin_ST]]\n",
    "    %run \"01. structural analysis.ipynb\"\n",
    "    %run \"02. build basins.ipynb\"\n",
    "    %run \"03. analyse basins.ipynb\""
   ]
  },
  {
   "cell_type": "code",
   "execution_count": 43,
   "metadata": {
    "collapsed": false
   },
   "outputs": [
    {
     "name": "stdout",
     "output_type": "stream",
     "text": [
      "====== v01_oscillating\n",
      "Saving dependecny matrix for v01_oscillating\n",
      "Running boolean simulations\n",
      "Saved chunk 0\n",
      "Saved chunk 1\n",
      "Saved chunk 2\n",
      "Saved chunk 3\n",
      "Saved chunk 4\n",
      "Normalizing cycles\n",
      "Reporting simple basins\n",
      "Reporting special basins\n",
      "Reporting weighted activity\n",
      "====== v01_oscillating_del_Arp2_3\n",
      "Saving dependecny matrix for v01_oscillating_del_Arp2_3\n",
      "Running boolean simulations\n",
      "Saved chunk 0\n",
      "Saved chunk 1\n",
      "Saved chunk 2\n",
      "Saved chunk 3\n",
      "Saved chunk 4\n",
      "Normalizing cycles\n",
      "Reporting simple basins\n",
      "Reporting special basins\n",
      "Reporting weighted activity\n"
     ]
    }
   ],
   "source": [
    "%run params.ipynb\n",
    "\n",
    "arr = ['v01_oscillating', 'v01_oscillating_del_Arp2_3']\n",
    "\n",
    "for name, rules in [(val, rules_map[val]) for val in arr]:\n",
    "    print(\"====== \"+name)    \n",
    "    PARAMS['name'] = name\n",
    "    PARAMS['save_file'] = True\n",
    "    PARAMS['graph'] = rules['graph']\n",
    "    PARAMS['rules'] = rules['rules']\n",
    "    PARAMS['chunk_size'] = 2\n",
    "    PARAMS['chunks'] = 5\n",
    "    PARAMS['report_basins'] = [[Actin_BR, Actin_ST]]\n",
    "    %run \"01. structural analysis.ipynb\"\n",
    "    %run \"02. build basins.ipynb\"\n",
    "    %run \"03. analyse basins.ipynb\""
   ]
  },
  {
   "cell_type": "code",
   "execution_count": null,
   "metadata": {
    "collapsed": false,
    "scrolled": false
   },
   "outputs": [],
   "source": [
    "### run all default rules\n",
    "\n",
    "import rule_factory\n",
    "\n",
    "%run params.ipynb\n",
    "\n",
    "for rules in sorted(rule_factory.loaders):\n",
    "    PARAMS['save_file'] = True\n",
    "    PARAMS['rules'] = rules      \n",
    "    PARAMS['graph'] = rule_factory.get_rules(rules)[\"graph\"]    \n",
    "    \n",
    "    %run \"01. structural analysis.ipynb\""
   ]
  }
 ],
 "metadata": {
  "kernelspec": {
   "display_name": "Python 3",
   "language": "python",
   "name": "python3"
  },
  "language_info": {
   "codemirror_mode": {
    "name": "ipython",
    "version": 3
   },
   "file_extension": ".py",
   "mimetype": "text/x-python",
   "name": "python",
   "nbconvert_exporter": "python",
   "pygments_lexer": "ipython3",
   "version": "3.5.2"
  }
 },
 "nbformat": 4,
 "nbformat_minor": 1
}
