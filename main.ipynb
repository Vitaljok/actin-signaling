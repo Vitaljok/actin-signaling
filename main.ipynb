{
 "cells": [
  {
   "cell_type": "code",
   "execution_count": null,
   "metadata": {
    "collapsed": false
   },
   "outputs": [],
   "source": [
    "%run params.ipynb\n",
    "import rules.example\n",
    "\n",
    "for name, rules in [('example', rules.example.build_rules())]:\n",
    "    PARAMS['save_file'] = True\n",
    "    PARAMS['name'] = name\n",
    "    PARAMS['graph'] = rules['graph']          \n",
    "    PARAMS['rules'] = rules['rules']        \n",
    "    \n",
    "    %run \"01. structural analysis.ipynb\"\n",
    "    %run \"02. build basins.ipynb\"\n",
    "    %run \"03. analyse basins.ipynb\""
   ]
  },
  {
   "cell_type": "code",
   "execution_count": 37,
   "metadata": {
    "collapsed": false
   },
   "outputs": [
    {
     "data": {
      "text/plain": [
       "['v01_oscillating_del_Cdc42', 'v01_oscillating_del_PIP2']"
      ]
     },
     "execution_count": 37,
     "metadata": {},
     "output_type": "execute_result"
    }
   ],
   "source": [
    "import re\n",
    "import rules.v01_oscillating\n",
    "from rules.enzymes import *\n",
    "\n",
    "all_nodes = {Actin_BR, Actin_ST, Arp2_3, CP, Cdc42, Cofilin, Coronin, Cortactin, \n",
    "             Dia1, Dia2, Ena_Vasp, IRSp53, LIMK, PAK, PIP2, PKD, Profilin, \n",
    "             ROCK, ROCK_, Rac1, RhoA, SSH, Thymosin, WASP, WAVE}\n",
    "\n",
    "rules_map = {}\n",
    "orig_rules = rules.v01_oscillating.build_rules() \n",
    "# rules_map[\"v01_oscillating\"] = orig_rules\n",
    "\n",
    "# knockdown nodes\n",
    "for node in [Cdc42, PIP2]: #all_nodes - all_nodes:\n",
    "    graph = orig_rules[\"graph\"].copy()\n",
    "    rules = orig_rules['rules']\n",
    "    \n",
    "    graph.remove_edges_from([(node, target) for target in list(graph[node])])      \n",
    "    rules = re.sub('1:\\s*'+node+'\\*\\s*=.+', '', rules)    \n",
    "    rules = rules + '1: '+node+'* = False \\n'\n",
    "    \n",
    "    rules_map[\"v01_oscillating_del_\"+node] = {\"graph\": graph, \"rules\": rules}\n",
    "\n",
    "\n",
    "# multi-knockdowns\n",
    "for nodes in []: #[[Cdc42, Rac1], [Dia1, Dia2]]:\n",
    "    graph = orig_rules[\"graph\"].copy()    \n",
    "    rules = orig_rules['rules']\n",
    "    \n",
    "    for node in nodes:\n",
    "        graph.remove_edges_from([(node, target) for target in list(graph[node])])      \n",
    "        rules = re.sub('1:\\s*'+node+'\\*\\s*=.+', '', rules)    \n",
    "        rules = rules + '1: '+node+'* = False \\n'\n",
    "              \n",
    "    rules_map[\"v01_oscillating_del_\"+\"_\".join(nodes)] = {\"graph\": graph, \"rules\": rules}\n",
    "    \n",
    "sorted(rules_map.keys())\n",
    "\n",
    "# print(rules_map['v01_oscillating_del_Cdc42']['rules'])"
   ]
  },
  {
   "cell_type": "code",
   "execution_count": 39,
   "metadata": {
    "collapsed": false,
    "scrolled": false
   },
   "outputs": [
    {
     "name": "stdout",
     "output_type": "stream",
     "text": [
      "====== v01_oscillating_del_Cdc42\n",
      "Normalizing cycles\n",
      "Reporting simple basins\n",
      "Reporting special basins\n",
      "Reporting weighted activity\n",
      "====== v01_oscillating_del_PIP2\n",
      "Normalizing cycles\n",
      "Reporting simple basins\n",
      "Reporting special basins\n",
      "Reporting weighted activity\n"
     ]
    }
   ],
   "source": [
    "### run selected rules\n",
    "\n",
    "%run params.ipynb\n",
    "\n",
    "for name, rules in sorted(rules_map.items()):\n",
    "    print(\"====== \"+name)    \n",
    "    PARAMS['name'] = name\n",
    "    PARAMS['save_file'] = True\n",
    "    PARAMS['graph'] = rules['graph']\n",
    "    PARAMS['rules'] = rules['rules']\n",
    "    PARAMS['chunk_size'] = 100\n",
    "    PARAMS['chunks'] = 10\n",
    "    PARAMS['report_basins'] = [[Actin_BR, Actin_ST]]\n",
    "#     %run \"01. structural analysis.ipynb\"\n",
    "#     %run \"02. build basins.ipynb\"\n",
    "    %run \"03. analyse basins.ipynb\""
   ]
  },
  {
   "cell_type": "code",
   "execution_count": null,
   "metadata": {
    "collapsed": false
   },
   "outputs": [],
   "source": [
    "%run params.ipynb\n",
    "\n",
    "arr = ['v01_oscillating', 'v01_oscillating_del_Arp2_3']\n",
    "\n",
    "for name, rules in [(val, rules_map[val]) for val in arr]:\n",
    "    print(\"====== \"+name)    \n",
    "    PARAMS['name'] = name\n",
    "    PARAMS['save_file'] = True\n",
    "    PARAMS['graph'] = rules['graph']\n",
    "    PARAMS['rules'] = rules['rules']\n",
    "    PARAMS['chunk_size'] = 2\n",
    "    PARAMS['chunks'] = 5\n",
    "    PARAMS['report_basins'] = [[Actin_BR, Actin_ST]]\n",
    "    %run \"01. structural analysis.ipynb\"\n",
    "    %run \"02. build basins.ipynb\"\n",
    "    %run \"03. analyse basins.ipynb\""
   ]
  }
 ],
 "metadata": {
  "kernelspec": {
   "display_name": "Python 3",
   "language": "python",
   "name": "python3"
  },
  "language_info": {
   "codemirror_mode": {
    "name": "ipython",
    "version": 3
   },
   "file_extension": ".py",
   "mimetype": "text/x-python",
   "name": "python",
   "nbconvert_exporter": "python",
   "pygments_lexer": "ipython3",
   "version": "3.5.2"
  }
 },
 "nbformat": 4,
 "nbformat_minor": 1
}
